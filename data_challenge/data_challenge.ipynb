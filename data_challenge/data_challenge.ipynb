{
  "nbformat": 4,
  "nbformat_minor": 0,
  "metadata": {
    "colab": {
      "provenance": []
    },
    "kernelspec": {
      "name": "python3",
      "display_name": "Python 3"
    },
    "language_info": {
      "name": "python"
    }
  },
  "cells": [
    {
      "cell_type": "markdown",
      "source": [
        "## Imports"
      ],
      "metadata": {
        "id": "DbP5rzsA61D0"
      }
    },
    {
      "cell_type": "code",
      "execution_count": 31,
      "metadata": {
        "id": "4tzRKy1eMePL"
      },
      "outputs": [],
      "source": [
        "import pandas as pd\n",
        "import numpy as np\n",
        "from sklearn import model_selection\n",
        "from sklearn.metrics import accuracy_score\n",
        "import matplotlib.pyplot as plt\n",
        "from sklearn.preprocessing import StandardScaler"
      ]
    },
    {
      "cell_type": "markdown",
      "source": [
        "## Preprocessing data"
      ],
      "metadata": {
        "id": "15UNtSYA621U"
      }
    },
    {
      "cell_type": "code",
      "source": [
        "import pandas as pd\n",
        "import numpy as np\n",
        "from sklearn.preprocessing import StandardScaler\n",
        "\n",
        "scaler = StandardScaler()\n",
        "\n",
        "train_home_team_statistics_df = pd.read_csv('./train_home_team_statistics_df.csv', index_col=0)\n",
        "train_away_team_statistics_df = pd.read_csv('./train_away_team_statistics_df.csv', index_col=0)\n",
        "\n",
        "train_scores = pd.read_csv('./Y_train.csv', index_col=0)\n",
        "\n",
        "train_home = train_home_team_statistics_df.iloc[:, 2:]\n",
        "train_away = train_away_team_statistics_df.iloc[:, 2:]\n",
        "\n",
        "train_data = train_home - train_away\n",
        "\n",
        "train_data = train_data.replace({np.inf : 0, -np.inf: 0, np.nan:0})\n",
        "\n",
        "scaler = StandardScaler()\n",
        "train_data = scaler.fit_transform(train_data)"
      ],
      "metadata": {
        "id": "yufMoLAyPk8a"
      },
      "execution_count": 32,
      "outputs": []
    },
    {
      "cell_type": "code",
      "source": [
        "train_data"
      ],
      "metadata": {
        "colab": {
          "base_uri": "https://localhost:8080/"
        },
        "id": "6EUkNfi8hx7n",
        "outputId": "8f39741b-8298-4b28-a038-df5c5e7856a2"
      },
      "execution_count": 33,
      "outputs": [
        {
          "output_type": "execute_result",
          "data": {
            "text/plain": [
              "array([[-2.38809784e-01,  2.86609783e-01,  2.77632740e-01, ...,\n",
              "        -2.39514938e-01,  6.18482160e-01,  1.57040688e-02],\n",
              "       [ 5.40452025e-01,  1.36010401e+00, -2.36549948e-01, ...,\n",
              "         5.27935089e-01,  9.26658661e-01,  2.69924013e-01],\n",
              "       [ 2.09441522e-02, -2.50137330e-01,  2.77632740e-01, ...,\n",
              "         7.83751764e-01, -2.15510636e+00, -4.92735820e-01],\n",
              "       ...,\n",
              "       [-7.58317657e-01, -1.05525800e+00, -2.36549948e-01, ...,\n",
              "        -4.95331614e-01, -3.06047346e-01, -4.92735820e-01],\n",
              "       [ 2.80698089e-01,  1.82362264e-02, -1.26491532e+00, ...,\n",
              "         2.72118413e-01,  2.12915571e-03, -2.38515876e-01],\n",
              "       [-7.58317657e-01, -1.05525800e+00,  2.77632740e-01, ...,\n",
              "        -1.00696497e+00,  1.85118817e+00, -2.38515876e-01]])"
            ]
          },
          "metadata": {},
          "execution_count": 33
        }
      ]
    },
    {
      "cell_type": "markdown",
      "source": [
        "## Train"
      ],
      "metadata": {
        "id": "a_8s-Ea67cwK"
      }
    },
    {
      "cell_type": "code",
      "source": [
        "from tensorflow.keras.models import Sequential\n",
        "from tensorflow.keras.layers import Dense, Dropout\n",
        "from tensorflow.keras.utils import to_categorical\n",
        "from sklearn.model_selection import train_test_split\n",
        "from tensorflow.keras.callbacks import EarlyStopping\n",
        "\n",
        "\n",
        "num_classes = 3\n",
        "\n",
        "X_train, X_test, y_train, y_test = train_test_split(train_data, train_scores, test_size=0.2, random_state=42)\n",
        "\n",
        "model = Sequential()\n",
        "model.add(Dense(64, activation='relu', input_shape=(X_train.shape[1],)))\n",
        "model.add(Dropout(0.5))\n",
        "model.add(Dense(32, activation='relu'))\n",
        "model.add(Dense(num_classes, activation='softmax'))\n",
        "\n",
        "model.compile(optimizer='adam', loss='categorical_crossentropy', metrics=['accuracy'])\n",
        "\n",
        "early_stopping = EarlyStopping(monitor='val_loss', patience=3, restore_best_weights=True)\n",
        "\n",
        "history = model.fit(X_train, y_train, validation_split=0.2, epochs=50, batch_size=32, callbacks=[early_stopping])\n",
        "\n",
        "test_loss, test_acc = model.evaluate(X_test, y_test)\n",
        "print(f'Test Accuracy: {test_acc}')\n"
      ],
      "metadata": {
        "colab": {
          "base_uri": "https://localhost:8080/"
        },
        "id": "cXb4j8BHj_-W",
        "outputId": "0efaf3a8-5fee-4031-a162-e68d4b3e8566"
      },
      "execution_count": 34,
      "outputs": [
        {
          "output_type": "stream",
          "name": "stdout",
          "text": [
            "Epoch 1/50\n"
          ]
        },
        {
          "output_type": "stream",
          "name": "stderr",
          "text": [
            "/usr/local/lib/python3.10/dist-packages/keras/src/layers/core/dense.py:87: UserWarning: Do not pass an `input_shape`/`input_dim` argument to a layer. When using Sequential models, prefer using an `Input(shape)` object as the first layer in the model instead.\n",
            "  super().__init__(activity_regularizer=activity_regularizer, **kwargs)\n"
          ]
        },
        {
          "output_type": "stream",
          "name": "stdout",
          "text": [
            "\u001b[1m247/247\u001b[0m \u001b[32m━━━━━━━━━━━━━━━━━━━━\u001b[0m\u001b[37m\u001b[0m \u001b[1m2s\u001b[0m 3ms/step - accuracy: 0.4267 - loss: 1.1495 - val_accuracy: 0.4688 - val_loss: 1.0412\n",
            "Epoch 2/50\n",
            "\u001b[1m247/247\u001b[0m \u001b[32m━━━━━━━━━━━━━━━━━━━━\u001b[0m\u001b[37m\u001b[0m \u001b[1m1s\u001b[0m 3ms/step - accuracy: 0.4684 - loss: 1.0515 - val_accuracy: 0.4830 - val_loss: 1.0334\n",
            "Epoch 3/50\n",
            "\u001b[1m247/247\u001b[0m \u001b[32m━━━━━━━━━━━━━━━━━━━━\u001b[0m\u001b[37m\u001b[0m \u001b[1m1s\u001b[0m 3ms/step - accuracy: 0.4899 - loss: 1.0261 - val_accuracy: 0.4733 - val_loss: 1.0380\n",
            "Epoch 4/50\n",
            "\u001b[1m247/247\u001b[0m \u001b[32m━━━━━━━━━━━━━━━━━━━━\u001b[0m\u001b[37m\u001b[0m \u001b[1m1s\u001b[0m 3ms/step - accuracy: 0.4827 - loss: 1.0257 - val_accuracy: 0.4860 - val_loss: 1.0329\n",
            "Epoch 5/50\n",
            "\u001b[1m247/247\u001b[0m \u001b[32m━━━━━━━━━━━━━━━━━━━━\u001b[0m\u001b[37m\u001b[0m \u001b[1m1s\u001b[0m 3ms/step - accuracy: 0.4883 - loss: 1.0298 - val_accuracy: 0.4901 - val_loss: 1.0307\n",
            "Epoch 6/50\n",
            "\u001b[1m247/247\u001b[0m \u001b[32m━━━━━━━━━━━━━━━━━━━━\u001b[0m\u001b[37m\u001b[0m \u001b[1m1s\u001b[0m 2ms/step - accuracy: 0.5051 - loss: 1.0025 - val_accuracy: 0.4901 - val_loss: 1.0327\n",
            "Epoch 7/50\n",
            "\u001b[1m247/247\u001b[0m \u001b[32m━━━━━━━━━━━━━━━━━━━━\u001b[0m\u001b[37m\u001b[0m \u001b[1m1s\u001b[0m 2ms/step - accuracy: 0.4972 - loss: 1.0096 - val_accuracy: 0.4850 - val_loss: 1.0349\n",
            "Epoch 8/50\n",
            "\u001b[1m247/247\u001b[0m \u001b[32m━━━━━━━━━━━━━━━━━━━━\u001b[0m\u001b[37m\u001b[0m \u001b[1m1s\u001b[0m 2ms/step - accuracy: 0.5080 - loss: 1.0056 - val_accuracy: 0.4896 - val_loss: 1.0322\n",
            "\u001b[1m77/77\u001b[0m \u001b[32m━━━━━━━━━━━━━━━━━━━━\u001b[0m\u001b[37m\u001b[0m \u001b[1m0s\u001b[0m 1ms/step - accuracy: 0.5098 - loss: 1.0236\n",
            "Test Accuracy: 0.4965461194515228\n"
          ]
        }
      ]
    },
    {
      "cell_type": "code",
      "source": [
        "plt.plot(history.history['accuracy'])\n",
        "plt.plot(history.history['val_accuracy'])\n",
        "plt.title('Model Accuracy')\n",
        "plt.ylabel('Accuracy')\n",
        "plt.xlabel('Epoch')\n",
        "plt.legend(['Train', 'Validation'], loc='upper left')\n",
        "plt.show()"
      ],
      "metadata": {
        "colab": {
          "base_uri": "https://localhost:8080/",
          "height": 492
        },
        "id": "KAaDZIJXIDFd",
        "outputId": "888ff3c1-477e-4109-eea2-f8b951b90f38"
      },
      "execution_count": 35,
      "outputs": [
        {
          "output_type": "display_data",
          "data": {
            "text/plain": [
              "<Figure size 640x480 with 1 Axes>"
            ],
            "image/png": "[encoded data removed]"
          },
          "metadata": {}
        }
      ]
    },
    {
      "cell_type": "markdown",
      "source": [
        "## Predict"
      ],
      "metadata": {
        "id": "NUYCiey97zgC"
      }
    },
    {
      "cell_type": "code",
      "source": [
        "test_home = pd.read_csv('./test_home_team_statistics_df.csv', index_col=0)\n",
        "test_away = pd.read_csv('./test_away_team_statistics_df.csv', index_col=0)\n",
        "\n",
        "test_data = test_home - test_away\n",
        "\n",
        "test_data = test_data.replace({np.inf : 0, -np.inf: 0, np.nan:0})\n",
        "\n",
        "scaler = StandardScaler()\n",
        "test_data = scaler.fit_transform(test_data)"
      ],
      "metadata": {
        "id": "B_11nQPjlFd3"
      },
      "execution_count": 36,
      "outputs": []
    },
    {
      "cell_type": "code",
      "source": [
        "test_data"
      ],
      "metadata": {
        "colab": {
          "base_uri": "https://localhost:8080/"
        },
        "id": "wGpjur8qmYWc",
        "outputId": "c3fb8233-07ec-4494-9950-1d68f6a0e431"
      },
      "execution_count": 37,
      "outputs": [
        {
          "output_type": "execute_result",
          "data": {
            "text/plain": [
              "array([[-0.74057404,  0.02323617,  0.0251823 , ...,  1.02441327,\n",
              "        -1.38468946,  0.76225223],\n",
              "       [-0.22970694, -0.49089822,  0.0251823 , ...,  0.01805011,\n",
              "        -1.93702807, -1.72163511],\n",
              "       [ 1.55832791,  2.33684088,  1.54438489, ...,  1.52759485,\n",
              "        -0.00384294, -2.21841258],\n",
              "       ...,\n",
              "       [ 1.81376146,  1.56563931,  2.05078575, ..., -0.23354068,\n",
              "        -0.00384294,  0.5138635 ],\n",
              "       [-0.22970694, -0.49089822,  0.0251823 , ...,  0.52123169,\n",
              "         1.37700358,  0.26547476],\n",
              "       [ 1.30289436,  1.56563931,  2.05078575, ..., -1.49149463,\n",
              "        -0.00384294,  0.01708603]])"
            ]
          },
          "metadata": {},
          "execution_count": 37
        }
      ]
    },
    {
      "cell_type": "code",
      "source": [
        "y_predict = model.predict(test_data)"
      ],
      "metadata": {
        "colab": {
          "base_uri": "https://localhost:8080/"
        },
        "id": "tt6Ms_0ZlviT",
        "outputId": "15c84ea5-efa2-4360-dda9-a61ff8d84558"
      },
      "execution_count": 38,
      "outputs": [
        {
          "output_type": "stream",
          "name": "stdout",
          "text": [
            "\u001b[1m793/793\u001b[0m \u001b[32m━━━━━━━━━━━━━━━━━━━━\u001b[0m\u001b[37m\u001b[0m \u001b[1m1s\u001b[0m 1ms/step\n"
          ]
        }
      ]
    },
    {
      "cell_type": "code",
      "source": [
        "y_predict"
      ],
      "metadata": {
        "colab": {
          "base_uri": "https://localhost:8080/"
        },
        "id": "zNtCidpKl3Ge",
        "outputId": "a73e218c-f19f-4f63-f274-82f5c0dae576"
      },
      "execution_count": 39,
      "outputs": [
        {
          "output_type": "execute_result",
          "data": {
            "text/plain": [
              "array([[0.36249024, 0.31787473, 0.319635  ],\n",
              "       [0.39595953, 0.22321492, 0.3808254 ],\n",
              "       [0.66945624, 0.17355382, 0.15698987],\n",
              "       ...,\n",
              "       [0.60668993, 0.19769348, 0.19561657],\n",
              "       [0.42906645, 0.3049858 , 0.26594773],\n",
              "       [0.41341877, 0.29742488, 0.28915626]], dtype=float32)"
            ]
          },
          "metadata": {},
          "execution_count": 39
        }
      ]
    },
    {
      "cell_type": "code",
      "source": [
        "y = np.zeros(y_predict.shape, dtype=int)\n",
        "max_indices = np.argmax(y_predict, axis=1)\n",
        "\n",
        "y[np.arange(y_predict.shape[0]), max_indices] = 1\n",
        "\n",
        "prefix = np.arange(12303, 12303 + len(y)).reshape(-1, 1)\n",
        "y = np.hstack((prefix, y))"
      ],
      "metadata": {
        "id": "2ZsSbIEpm3Dd"
      },
      "execution_count": 40,
      "outputs": []
    },
    {
      "cell_type": "code",
      "source": [
        "y"
      ],
      "metadata": {
        "colab": {
          "base_uri": "https://localhost:8080/"
        },
        "id": "rBbCTHluq7t-",
        "outputId": "e252b7ee-e5a7-4e79-9494-b657bd6d8b1e"
      },
      "execution_count": 41,
      "outputs": [
        {
          "output_type": "execute_result",
          "data": {
            "text/plain": [
              "array([[12303,     1,     0,     0],\n",
              "       [12304,     1,     0,     0],\n",
              "       [12305,     1,     0,     0],\n",
              "       ...,\n",
              "       [37668,     1,     0,     0],\n",
              "       [37669,     1,     0,     0],\n",
              "       [37670,     1,     0,     0]])"
            ]
          },
          "metadata": {},
          "execution_count": 41
        }
      ]
    },
    {
      "cell_type": "code",
      "source": [
        "import csv\n",
        "\n",
        "filename = './output.csv'\n",
        "\n",
        "with open(filename, mode='w', newline='') as file:\n",
        "    writer = csv.writer(file)\n",
        "    writer.writerow(['ID', 'HOME_WINS', 'DRAW', 'AWAY_WINS'])\n",
        "    writer.writerows(y)"
      ],
      "metadata": {
        "id": "bTn2Lu90o8Oj"
      },
      "execution_count": 42,
      "outputs": []
    }
  ]
}
